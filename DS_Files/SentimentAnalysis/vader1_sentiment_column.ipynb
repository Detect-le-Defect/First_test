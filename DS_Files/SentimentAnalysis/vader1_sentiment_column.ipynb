{
 "cells": [
  {
   "cell_type": "code",
   "execution_count": 11,
   "metadata": {},
   "outputs": [],
   "source": [
    "import pandas as pd\n",
    "import numpy as np\n",
    "\n",
    "import nltk\n",
    "from vaderSentiment.vaderSentiment import SentimentIntensityAnalyzer\n"
   ]
  },
  {
   "cell_type": "code",
   "execution_count": 12,
   "metadata": {},
   "outputs": [],
   "source": [
    "documentName = 'chatriotgames101821'\n",
    "folderName = '/ChatLogs/chatriotgames/'"
   ]
  },
  {
   "cell_type": "code",
   "execution_count": 13,
   "metadata": {},
   "outputs": [
    {
     "data": {
      "text/html": [
       "<div>\n",
       "<style scoped>\n",
       "    .dataframe tbody tr th:only-of-type {\n",
       "        vertical-align: middle;\n",
       "    }\n",
       "\n",
       "    .dataframe tbody tr th {\n",
       "        vertical-align: top;\n",
       "    }\n",
       "\n",
       "    .dataframe thead th {\n",
       "        text-align: right;\n",
       "    }\n",
       "</style>\n",
       "<table border=\"1\" class=\"dataframe\">\n",
       "  <thead>\n",
       "    <tr style=\"text-align: right;\">\n",
       "      <th></th>\n",
       "      <th>Date</th>\n",
       "      <th>Channel</th>\n",
       "      <th>Username</th>\n",
       "      <th>Message</th>\n",
       "      <th>Tag_owner</th>\n",
       "      <th>Cleanest_message</th>\n",
       "    </tr>\n",
       "  </thead>\n",
       "  <tbody>\n",
       "    <tr>\n",
       "      <th>0</th>\n",
       "      <td>2021-10-18 17:18:04</td>\n",
       "      <td>riotgames</td>\n",
       "      <td>xoocboots</td>\n",
       "      <td>EU i kcuf your women and slap your men LUL &lt;3 ...</td>\n",
       "      <td>0</td>\n",
       "      <td>slap LUL i</td>\n",
       "    </tr>\n",
       "    <tr>\n",
       "      <th>1</th>\n",
       "      <td>2021-10-18 17:18:10</td>\n",
       "      <td>riotgames</td>\n",
       "      <td>secsso23</td>\n",
       "      <td>2-4 GG</td>\n",
       "      <td>0</td>\n",
       "      <td>go</td>\n",
       "    </tr>\n",
       "    <tr>\n",
       "      <th>2</th>\n",
       "      <td>2021-10-18 17:18:10</td>\n",
       "      <td>riotgames</td>\n",
       "      <td>gracejacky</td>\n",
       "      <td>tl had no dmg wtf</td>\n",
       "      <td>0</td>\n",
       "      <td>wif</td>\n",
       "    </tr>\n",
       "    <tr>\n",
       "      <th>3</th>\n",
       "      <td>2021-10-18 17:18:10</td>\n",
       "      <td>riotgames</td>\n",
       "      <td>ritogames69420</td>\n",
       "      <td>Win 4 borfday</td>\n",
       "      <td>0</td>\n",
       "      <td>win</td>\n",
       "    </tr>\n",
       "    <tr>\n",
       "      <th>4</th>\n",
       "      <td>2021-10-18 17:18:10</td>\n",
       "      <td>riotgames</td>\n",
       "      <td>tlev1n</td>\n",
       "      <td>LETS GO TL FeelsStrongMan Clap</td>\n",
       "      <td>0</td>\n",
       "      <td>Clap</td>\n",
       "    </tr>\n",
       "  </tbody>\n",
       "</table>\n",
       "</div>"
      ],
      "text/plain": [
       "                  Date     Channel        Username  \\\n",
       "0  2021-10-18 17:18:04  riotgames        xoocboots   \n",
       "1  2021-10-18 17:18:10  riotgames         secsso23   \n",
       "2  2021-10-18 17:18:10  riotgames       gracejacky   \n",
       "3  2021-10-18 17:18:10  riotgames   ritogames69420   \n",
       "4  2021-10-18 17:18:10  riotgames           tlev1n   \n",
       "\n",
       "                                             Message  Tag_owner  \\\n",
       "0  EU i kcuf your women and slap your men LUL <3 ...          0   \n",
       "1                                             2-4 GG          0   \n",
       "2                                  tl had no dmg wtf          0   \n",
       "3                                      Win 4 borfday          0   \n",
       "4                     LETS GO TL FeelsStrongMan Clap          0   \n",
       "\n",
       "  Cleanest_message  \n",
       "0       slap LUL i  \n",
       "1               go  \n",
       "2              wif  \n",
       "3              win  \n",
       "4             Clap  "
      ]
     },
     "execution_count": 13,
     "metadata": {},
     "output_type": "execute_result"
    }
   ],
   "source": [
    "data = pd.read_csv('..'+ folderName + documentName + 'Clean' + '.csv')\n",
    "data.head()"
   ]
  },
  {
   "cell_type": "code",
   "execution_count": 14,
   "metadata": {},
   "outputs": [],
   "source": [
    "analyser = SentimentIntensityAnalyzer()\n",
    "\n"
   ]
  },
  {
   "cell_type": "code",
   "execution_count": 15,
   "metadata": {},
   "outputs": [],
   "source": [
    "\n",
    "\n",
    "new_emotes = {\n",
    "    'omegalul': 2,\n",
    "    'lilw': 0,\n",
    "    'monkaw': -3.0,\n",
    "    'waytoodank': 0,\n",
    "    'ez': 2.0,\n",
    "    'clap' : 3.0,\n",
    "    'lul' : 2.0,\n",
    "    'booba' : 1.0,\n",
    "    'pepega' : -3.0,\n",
    "    'feelsgoodman' : 3.0,\n",
    "    'wutfac' : -3.0,\n",
    "    'sadge' : -4.0,\n",
    "    'kreygasm' : 3.0,\n",
    "    'kappa' : 0,\n",
    "    'peeposad' : -4.0,\n",
    "    'pogu' : 4.0,\n",
    "    'truening' : 0,\n",
    "    'lulw' : 2.0,\n",
    "    'feelsbadman' : -3.0,\n",
    "    'pogchamp' : 3.0,\n",
    "    'poggers' : 3.0,\n",
    "    'heyguys' : 2.0,\n",
    "    'pepehands': -2.0,\n",
    "    'rip' : -2.0,\n",
    "    'seemsgood' : 3.0,\n",
    "    'notlikethis' : -2.0,\n",
    "    'clap' : 2.0,\n",
    "    'pog' : 2.0,\n",
    "    'smorc' : 0,\n",
    "    'dansgam' : -4.0,\n",
    "    'ez' : -1.0,\n",
    "    'peeposad' : -2.0,    \n",
    "}"
   ]
  },
  {
   "cell_type": "code",
   "execution_count": 16,
   "metadata": {},
   "outputs": [],
   "source": [
    "analyser.lexicon.update(new_emotes)"
   ]
  },
  {
   "cell_type": "code",
   "execution_count": 17,
   "metadata": {},
   "outputs": [],
   "source": [
    "data['scores'] = data['Cleanest_message'].apply(lambda clean_message:analyser.polarity_scores(clean_message))"
   ]
  },
  {
   "cell_type": "code",
   "execution_count": 18,
   "metadata": {},
   "outputs": [
    {
     "data": {
      "text/html": [
       "<div>\n",
       "<style scoped>\n",
       "    .dataframe tbody tr th:only-of-type {\n",
       "        vertical-align: middle;\n",
       "    }\n",
       "\n",
       "    .dataframe tbody tr th {\n",
       "        vertical-align: top;\n",
       "    }\n",
       "\n",
       "    .dataframe thead th {\n",
       "        text-align: right;\n",
       "    }\n",
       "</style>\n",
       "<table border=\"1\" class=\"dataframe\">\n",
       "  <thead>\n",
       "    <tr style=\"text-align: right;\">\n",
       "      <th></th>\n",
       "      <th>Date</th>\n",
       "      <th>Channel</th>\n",
       "      <th>Username</th>\n",
       "      <th>Message</th>\n",
       "      <th>Tag_owner</th>\n",
       "      <th>Cleanest_message</th>\n",
       "      <th>scores</th>\n",
       "    </tr>\n",
       "  </thead>\n",
       "  <tbody>\n",
       "    <tr>\n",
       "      <th>0</th>\n",
       "      <td>2021-10-18 17:18:04</td>\n",
       "      <td>riotgames</td>\n",
       "      <td>xoocboots</td>\n",
       "      <td>EU i kcuf your women and slap your men LUL &lt;3 ...</td>\n",
       "      <td>0</td>\n",
       "      <td>slap LUL i</td>\n",
       "      <td>{'neg': 0.0, 'neu': 0.158, 'pos': 0.842, 'comp...</td>\n",
       "    </tr>\n",
       "    <tr>\n",
       "      <th>1</th>\n",
       "      <td>2021-10-18 17:18:10</td>\n",
       "      <td>riotgames</td>\n",
       "      <td>secsso23</td>\n",
       "      <td>2-4 GG</td>\n",
       "      <td>0</td>\n",
       "      <td>go</td>\n",
       "      <td>{'neg': 0.0, 'neu': 1.0, 'pos': 0.0, 'compound...</td>\n",
       "    </tr>\n",
       "    <tr>\n",
       "      <th>2</th>\n",
       "      <td>2021-10-18 17:18:10</td>\n",
       "      <td>riotgames</td>\n",
       "      <td>gracejacky</td>\n",
       "      <td>tl had no dmg wtf</td>\n",
       "      <td>0</td>\n",
       "      <td>wif</td>\n",
       "      <td>{'neg': 0.0, 'neu': 1.0, 'pos': 0.0, 'compound...</td>\n",
       "    </tr>\n",
       "    <tr>\n",
       "      <th>3</th>\n",
       "      <td>2021-10-18 17:18:10</td>\n",
       "      <td>riotgames</td>\n",
       "      <td>ritogames69420</td>\n",
       "      <td>Win 4 borfday</td>\n",
       "      <td>0</td>\n",
       "      <td>win</td>\n",
       "      <td>{'neg': 0.0, 'neu': 0.0, 'pos': 1.0, 'compound...</td>\n",
       "    </tr>\n",
       "    <tr>\n",
       "      <th>4</th>\n",
       "      <td>2021-10-18 17:18:10</td>\n",
       "      <td>riotgames</td>\n",
       "      <td>tlev1n</td>\n",
       "      <td>LETS GO TL FeelsStrongMan Clap</td>\n",
       "      <td>0</td>\n",
       "      <td>Clap</td>\n",
       "      <td>{'neg': 0.0, 'neu': 0.0, 'pos': 1.0, 'compound...</td>\n",
       "    </tr>\n",
       "  </tbody>\n",
       "</table>\n",
       "</div>"
      ],
      "text/plain": [
       "                  Date     Channel        Username  \\\n",
       "0  2021-10-18 17:18:04  riotgames        xoocboots   \n",
       "1  2021-10-18 17:18:10  riotgames         secsso23   \n",
       "2  2021-10-18 17:18:10  riotgames       gracejacky   \n",
       "3  2021-10-18 17:18:10  riotgames   ritogames69420   \n",
       "4  2021-10-18 17:18:10  riotgames           tlev1n   \n",
       "\n",
       "                                             Message  Tag_owner  \\\n",
       "0  EU i kcuf your women and slap your men LUL <3 ...          0   \n",
       "1                                             2-4 GG          0   \n",
       "2                                  tl had no dmg wtf          0   \n",
       "3                                      Win 4 borfday          0   \n",
       "4                     LETS GO TL FeelsStrongMan Clap          0   \n",
       "\n",
       "  Cleanest_message                                             scores  \n",
       "0       slap LUL i  {'neg': 0.0, 'neu': 0.158, 'pos': 0.842, 'comp...  \n",
       "1               go  {'neg': 0.0, 'neu': 1.0, 'pos': 0.0, 'compound...  \n",
       "2              wif  {'neg': 0.0, 'neu': 1.0, 'pos': 0.0, 'compound...  \n",
       "3              win  {'neg': 0.0, 'neu': 0.0, 'pos': 1.0, 'compound...  \n",
       "4             Clap  {'neg': 0.0, 'neu': 0.0, 'pos': 1.0, 'compound...  "
      ]
     },
     "execution_count": 18,
     "metadata": {},
     "output_type": "execute_result"
    }
   ],
   "source": [
    "data.head(5)"
   ]
  },
  {
   "cell_type": "code",
   "execution_count": 19,
   "metadata": {},
   "outputs": [],
   "source": [
    "total=analyser.polarity_scores(data['Cleanest_message'])"
   ]
  },
  {
   "cell_type": "code",
   "execution_count": 20,
   "metadata": {},
   "outputs": [
    {
     "data": {
      "text/plain": [
       "{'neg': 0.138, 'neu': 0.706, 'pos': 0.155, 'compound': 0.9905}"
      ]
     },
     "execution_count": 20,
     "metadata": {},
     "output_type": "execute_result"
    }
   ],
   "source": [
    "total"
   ]
  },
  {
   "cell_type": "code",
   "execution_count": 21,
   "metadata": {},
   "outputs": [],
   "source": [
    "pd.set_option('display.max_colwidth', 200)"
   ]
  },
  {
   "cell_type": "code",
   "execution_count": 22,
   "metadata": {},
   "outputs": [
    {
     "data": {
      "text/html": [
       "<div>\n",
       "<style scoped>\n",
       "    .dataframe tbody tr th:only-of-type {\n",
       "        vertical-align: middle;\n",
       "    }\n",
       "\n",
       "    .dataframe tbody tr th {\n",
       "        vertical-align: top;\n",
       "    }\n",
       "\n",
       "    .dataframe thead th {\n",
       "        text-align: right;\n",
       "    }\n",
       "</style>\n",
       "<table border=\"1\" class=\"dataframe\">\n",
       "  <thead>\n",
       "    <tr style=\"text-align: right;\">\n",
       "      <th></th>\n",
       "      <th>Date</th>\n",
       "      <th>Channel</th>\n",
       "      <th>Username</th>\n",
       "      <th>Message</th>\n",
       "      <th>Tag_owner</th>\n",
       "      <th>Cleanest_message</th>\n",
       "      <th>scores</th>\n",
       "    </tr>\n",
       "  </thead>\n",
       "  <tbody>\n",
       "    <tr>\n",
       "      <th>0</th>\n",
       "      <td>2021-10-18 17:18:04</td>\n",
       "      <td>riotgames</td>\n",
       "      <td>xoocboots</td>\n",
       "      <td>EU i kcuf your women and slap your men LUL &lt;3 EU i kcuf your women and slap your men LUL &lt;3</td>\n",
       "      <td>0</td>\n",
       "      <td>slap LUL i</td>\n",
       "      <td>{'neg': 0.0, 'neu': 0.158, 'pos': 0.842, 'compound': 0.6523}</td>\n",
       "    </tr>\n",
       "    <tr>\n",
       "      <th>1</th>\n",
       "      <td>2021-10-18 17:18:10</td>\n",
       "      <td>riotgames</td>\n",
       "      <td>secsso23</td>\n",
       "      <td>2-4 GG</td>\n",
       "      <td>0</td>\n",
       "      <td>go</td>\n",
       "      <td>{'neg': 0.0, 'neu': 1.0, 'pos': 0.0, 'compound': 0.0}</td>\n",
       "    </tr>\n",
       "    <tr>\n",
       "      <th>2</th>\n",
       "      <td>2021-10-18 17:18:10</td>\n",
       "      <td>riotgames</td>\n",
       "      <td>gracejacky</td>\n",
       "      <td>tl had no dmg wtf</td>\n",
       "      <td>0</td>\n",
       "      <td>wif</td>\n",
       "      <td>{'neg': 0.0, 'neu': 1.0, 'pos': 0.0, 'compound': 0.0}</td>\n",
       "    </tr>\n",
       "    <tr>\n",
       "      <th>3</th>\n",
       "      <td>2021-10-18 17:18:10</td>\n",
       "      <td>riotgames</td>\n",
       "      <td>ritogames69420</td>\n",
       "      <td>Win 4 borfday</td>\n",
       "      <td>0</td>\n",
       "      <td>win</td>\n",
       "      <td>{'neg': 0.0, 'neu': 0.0, 'pos': 1.0, 'compound': 0.5859}</td>\n",
       "    </tr>\n",
       "    <tr>\n",
       "      <th>4</th>\n",
       "      <td>2021-10-18 17:18:10</td>\n",
       "      <td>riotgames</td>\n",
       "      <td>tlev1n</td>\n",
       "      <td>LETS GO TL FeelsStrongMan Clap</td>\n",
       "      <td>0</td>\n",
       "      <td>Clap</td>\n",
       "      <td>{'neg': 0.0, 'neu': 0.0, 'pos': 1.0, 'compound': 0.4588}</td>\n",
       "    </tr>\n",
       "  </tbody>\n",
       "</table>\n",
       "</div>"
      ],
      "text/plain": [
       "                  Date     Channel        Username  \\\n",
       "0  2021-10-18 17:18:04  riotgames        xoocboots   \n",
       "1  2021-10-18 17:18:10  riotgames         secsso23   \n",
       "2  2021-10-18 17:18:10  riotgames       gracejacky   \n",
       "3  2021-10-18 17:18:10  riotgames   ritogames69420   \n",
       "4  2021-10-18 17:18:10  riotgames           tlev1n   \n",
       "\n",
       "                                                                                       Message  \\\n",
       "0  EU i kcuf your women and slap your men LUL <3 EU i kcuf your women and slap your men LUL <3   \n",
       "1                                                                                       2-4 GG   \n",
       "2                                                                            tl had no dmg wtf   \n",
       "3                                                                                Win 4 borfday   \n",
       "4                                                               LETS GO TL FeelsStrongMan Clap   \n",
       "\n",
       "   Tag_owner Cleanest_message  \\\n",
       "0          0       slap LUL i   \n",
       "1          0               go   \n",
       "2          0              wif   \n",
       "3          0              win   \n",
       "4          0             Clap   \n",
       "\n",
       "                                                         scores  \n",
       "0  {'neg': 0.0, 'neu': 0.158, 'pos': 0.842, 'compound': 0.6523}  \n",
       "1         {'neg': 0.0, 'neu': 1.0, 'pos': 0.0, 'compound': 0.0}  \n",
       "2         {'neg': 0.0, 'neu': 1.0, 'pos': 0.0, 'compound': 0.0}  \n",
       "3      {'neg': 0.0, 'neu': 0.0, 'pos': 1.0, 'compound': 0.5859}  \n",
       "4      {'neg': 0.0, 'neu': 0.0, 'pos': 1.0, 'compound': 0.4588}  "
      ]
     },
     "execution_count": 22,
     "metadata": {},
     "output_type": "execute_result"
    }
   ],
   "source": [
    "data.head()"
   ]
  },
  {
   "cell_type": "code",
   "execution_count": 23,
   "metadata": {},
   "outputs": [],
   "source": [
    "\n",
    "\n",
    "data['comp_score'] = data['scores'].apply(lambda score_dict: score_dict['compound'])"
   ]
  },
  {
   "cell_type": "code",
   "execution_count": 24,
   "metadata": {},
   "outputs": [
    {
     "data": {
      "text/html": [
       "<div>\n",
       "<style scoped>\n",
       "    .dataframe tbody tr th:only-of-type {\n",
       "        vertical-align: middle;\n",
       "    }\n",
       "\n",
       "    .dataframe tbody tr th {\n",
       "        vertical-align: top;\n",
       "    }\n",
       "\n",
       "    .dataframe thead th {\n",
       "        text-align: right;\n",
       "    }\n",
       "</style>\n",
       "<table border=\"1\" class=\"dataframe\">\n",
       "  <thead>\n",
       "    <tr style=\"text-align: right;\">\n",
       "      <th></th>\n",
       "      <th>Date</th>\n",
       "      <th>Channel</th>\n",
       "      <th>Username</th>\n",
       "      <th>Message</th>\n",
       "      <th>Tag_owner</th>\n",
       "      <th>Cleanest_message</th>\n",
       "      <th>scores</th>\n",
       "      <th>comp_score</th>\n",
       "    </tr>\n",
       "  </thead>\n",
       "  <tbody>\n",
       "    <tr>\n",
       "      <th>0</th>\n",
       "      <td>2021-10-18 17:18:04</td>\n",
       "      <td>riotgames</td>\n",
       "      <td>xoocboots</td>\n",
       "      <td>EU i kcuf your women and slap your men LUL &lt;3 EU i kcuf your women and slap your men LUL &lt;3</td>\n",
       "      <td>0</td>\n",
       "      <td>slap LUL i</td>\n",
       "      <td>{'neg': 0.0, 'neu': 0.158, 'pos': 0.842, 'compound': 0.6523}</td>\n",
       "      <td>0.6523</td>\n",
       "    </tr>\n",
       "    <tr>\n",
       "      <th>1</th>\n",
       "      <td>2021-10-18 17:18:10</td>\n",
       "      <td>riotgames</td>\n",
       "      <td>secsso23</td>\n",
       "      <td>2-4 GG</td>\n",
       "      <td>0</td>\n",
       "      <td>go</td>\n",
       "      <td>{'neg': 0.0, 'neu': 1.0, 'pos': 0.0, 'compound': 0.0}</td>\n",
       "      <td>0.0000</td>\n",
       "    </tr>\n",
       "    <tr>\n",
       "      <th>2</th>\n",
       "      <td>2021-10-18 17:18:10</td>\n",
       "      <td>riotgames</td>\n",
       "      <td>gracejacky</td>\n",
       "      <td>tl had no dmg wtf</td>\n",
       "      <td>0</td>\n",
       "      <td>wif</td>\n",
       "      <td>{'neg': 0.0, 'neu': 1.0, 'pos': 0.0, 'compound': 0.0}</td>\n",
       "      <td>0.0000</td>\n",
       "    </tr>\n",
       "    <tr>\n",
       "      <th>3</th>\n",
       "      <td>2021-10-18 17:18:10</td>\n",
       "      <td>riotgames</td>\n",
       "      <td>ritogames69420</td>\n",
       "      <td>Win 4 borfday</td>\n",
       "      <td>0</td>\n",
       "      <td>win</td>\n",
       "      <td>{'neg': 0.0, 'neu': 0.0, 'pos': 1.0, 'compound': 0.5859}</td>\n",
       "      <td>0.5859</td>\n",
       "    </tr>\n",
       "    <tr>\n",
       "      <th>4</th>\n",
       "      <td>2021-10-18 17:18:10</td>\n",
       "      <td>riotgames</td>\n",
       "      <td>tlev1n</td>\n",
       "      <td>LETS GO TL FeelsStrongMan Clap</td>\n",
       "      <td>0</td>\n",
       "      <td>Clap</td>\n",
       "      <td>{'neg': 0.0, 'neu': 0.0, 'pos': 1.0, 'compound': 0.4588}</td>\n",
       "      <td>0.4588</td>\n",
       "    </tr>\n",
       "  </tbody>\n",
       "</table>\n",
       "</div>"
      ],
      "text/plain": [
       "                  Date     Channel        Username  \\\n",
       "0  2021-10-18 17:18:04  riotgames        xoocboots   \n",
       "1  2021-10-18 17:18:10  riotgames         secsso23   \n",
       "2  2021-10-18 17:18:10  riotgames       gracejacky   \n",
       "3  2021-10-18 17:18:10  riotgames   ritogames69420   \n",
       "4  2021-10-18 17:18:10  riotgames           tlev1n   \n",
       "\n",
       "                                                                                       Message  \\\n",
       "0  EU i kcuf your women and slap your men LUL <3 EU i kcuf your women and slap your men LUL <3   \n",
       "1                                                                                       2-4 GG   \n",
       "2                                                                            tl had no dmg wtf   \n",
       "3                                                                                Win 4 borfday   \n",
       "4                                                               LETS GO TL FeelsStrongMan Clap   \n",
       "\n",
       "   Tag_owner Cleanest_message  \\\n",
       "0          0       slap LUL i   \n",
       "1          0               go   \n",
       "2          0              wif   \n",
       "3          0              win   \n",
       "4          0             Clap   \n",
       "\n",
       "                                                         scores  comp_score  \n",
       "0  {'neg': 0.0, 'neu': 0.158, 'pos': 0.842, 'compound': 0.6523}      0.6523  \n",
       "1         {'neg': 0.0, 'neu': 1.0, 'pos': 0.0, 'compound': 0.0}      0.0000  \n",
       "2         {'neg': 0.0, 'neu': 1.0, 'pos': 0.0, 'compound': 0.0}      0.0000  \n",
       "3      {'neg': 0.0, 'neu': 0.0, 'pos': 1.0, 'compound': 0.5859}      0.5859  \n",
       "4      {'neg': 0.0, 'neu': 0.0, 'pos': 1.0, 'compound': 0.4588}      0.4588  "
      ]
     },
     "execution_count": 24,
     "metadata": {},
     "output_type": "execute_result"
    }
   ],
   "source": [
    "data.head()"
   ]
  },
  {
   "cell_type": "code",
   "execution_count": 25,
   "metadata": {},
   "outputs": [],
   "source": [
    "#data['sentiment']=''\n",
    "#data.loc[data.comp_score>0,'sentiment']='POSITIVE'\n",
    "#data.loc[data.comp_score==0,'sentiment']='NEUTRAL'\n",
    "#data.loc[data.comp_score<0,'sentiment']='NEGATIVE'"
   ]
  },
  {
   "cell_type": "code",
   "execution_count": 26,
   "metadata": {},
   "outputs": [],
   "source": [
    "def categorise_sentiment(sentiment, neg_threshold=-0.05, pos_threshold=0.05):\n",
    "    \"\"\" categorise the sentiment value as positive (1), negative (-1) \n",
    "        or neutral (0) based on given thresholds \"\"\"\n",
    "    if sentiment < neg_threshold:\n",
    "        label = 'negative'\n",
    "    elif sentiment > pos_threshold:\n",
    "        label = 'positive'\n",
    "    else:\n",
    "        label = 'neutral'\n",
    "    return label"
   ]
  },
  {
   "cell_type": "code",
   "execution_count": 27,
   "metadata": {},
   "outputs": [],
   "source": [
    "data['sentiment'] = data['comp_score'].apply(categorise_sentiment)"
   ]
  },
  {
   "cell_type": "code",
   "execution_count": 28,
   "metadata": {},
   "outputs": [
    {
     "data": {
      "text/html": [
       "<div>\n",
       "<style scoped>\n",
       "    .dataframe tbody tr th:only-of-type {\n",
       "        vertical-align: middle;\n",
       "    }\n",
       "\n",
       "    .dataframe tbody tr th {\n",
       "        vertical-align: top;\n",
       "    }\n",
       "\n",
       "    .dataframe thead th {\n",
       "        text-align: right;\n",
       "    }\n",
       "</style>\n",
       "<table border=\"1\" class=\"dataframe\">\n",
       "  <thead>\n",
       "    <tr style=\"text-align: right;\">\n",
       "      <th></th>\n",
       "      <th>Date</th>\n",
       "      <th>Channel</th>\n",
       "      <th>Username</th>\n",
       "      <th>Message</th>\n",
       "      <th>Tag_owner</th>\n",
       "      <th>Cleanest_message</th>\n",
       "      <th>scores</th>\n",
       "      <th>comp_score</th>\n",
       "      <th>sentiment</th>\n",
       "    </tr>\n",
       "  </thead>\n",
       "  <tbody>\n",
       "    <tr>\n",
       "      <th>0</th>\n",
       "      <td>2021-10-18 17:18:04</td>\n",
       "      <td>riotgames</td>\n",
       "      <td>xoocboots</td>\n",
       "      <td>EU i kcuf your women and slap your men LUL &lt;3 EU i kcuf your women and slap your men LUL &lt;3</td>\n",
       "      <td>0</td>\n",
       "      <td>slap LUL i</td>\n",
       "      <td>{'neg': 0.0, 'neu': 0.158, 'pos': 0.842, 'compound': 0.6523}</td>\n",
       "      <td>0.6523</td>\n",
       "      <td>positive</td>\n",
       "    </tr>\n",
       "    <tr>\n",
       "      <th>1</th>\n",
       "      <td>2021-10-18 17:18:10</td>\n",
       "      <td>riotgames</td>\n",
       "      <td>secsso23</td>\n",
       "      <td>2-4 GG</td>\n",
       "      <td>0</td>\n",
       "      <td>go</td>\n",
       "      <td>{'neg': 0.0, 'neu': 1.0, 'pos': 0.0, 'compound': 0.0}</td>\n",
       "      <td>0.0000</td>\n",
       "      <td>neutral</td>\n",
       "    </tr>\n",
       "    <tr>\n",
       "      <th>2</th>\n",
       "      <td>2021-10-18 17:18:10</td>\n",
       "      <td>riotgames</td>\n",
       "      <td>gracejacky</td>\n",
       "      <td>tl had no dmg wtf</td>\n",
       "      <td>0</td>\n",
       "      <td>wif</td>\n",
       "      <td>{'neg': 0.0, 'neu': 1.0, 'pos': 0.0, 'compound': 0.0}</td>\n",
       "      <td>0.0000</td>\n",
       "      <td>neutral</td>\n",
       "    </tr>\n",
       "    <tr>\n",
       "      <th>3</th>\n",
       "      <td>2021-10-18 17:18:10</td>\n",
       "      <td>riotgames</td>\n",
       "      <td>ritogames69420</td>\n",
       "      <td>Win 4 borfday</td>\n",
       "      <td>0</td>\n",
       "      <td>win</td>\n",
       "      <td>{'neg': 0.0, 'neu': 0.0, 'pos': 1.0, 'compound': 0.5859}</td>\n",
       "      <td>0.5859</td>\n",
       "      <td>positive</td>\n",
       "    </tr>\n",
       "    <tr>\n",
       "      <th>4</th>\n",
       "      <td>2021-10-18 17:18:10</td>\n",
       "      <td>riotgames</td>\n",
       "      <td>tlev1n</td>\n",
       "      <td>LETS GO TL FeelsStrongMan Clap</td>\n",
       "      <td>0</td>\n",
       "      <td>Clap</td>\n",
       "      <td>{'neg': 0.0, 'neu': 0.0, 'pos': 1.0, 'compound': 0.4588}</td>\n",
       "      <td>0.4588</td>\n",
       "      <td>positive</td>\n",
       "    </tr>\n",
       "  </tbody>\n",
       "</table>\n",
       "</div>"
      ],
      "text/plain": [
       "                  Date     Channel        Username  \\\n",
       "0  2021-10-18 17:18:04  riotgames        xoocboots   \n",
       "1  2021-10-18 17:18:10  riotgames         secsso23   \n",
       "2  2021-10-18 17:18:10  riotgames       gracejacky   \n",
       "3  2021-10-18 17:18:10  riotgames   ritogames69420   \n",
       "4  2021-10-18 17:18:10  riotgames           tlev1n   \n",
       "\n",
       "                                                                                       Message  \\\n",
       "0  EU i kcuf your women and slap your men LUL <3 EU i kcuf your women and slap your men LUL <3   \n",
       "1                                                                                       2-4 GG   \n",
       "2                                                                            tl had no dmg wtf   \n",
       "3                                                                                Win 4 borfday   \n",
       "4                                                               LETS GO TL FeelsStrongMan Clap   \n",
       "\n",
       "   Tag_owner Cleanest_message  \\\n",
       "0          0       slap LUL i   \n",
       "1          0               go   \n",
       "2          0              wif   \n",
       "3          0              win   \n",
       "4          0             Clap   \n",
       "\n",
       "                                                         scores  comp_score  \\\n",
       "0  {'neg': 0.0, 'neu': 0.158, 'pos': 0.842, 'compound': 0.6523}      0.6523   \n",
       "1         {'neg': 0.0, 'neu': 1.0, 'pos': 0.0, 'compound': 0.0}      0.0000   \n",
       "2         {'neg': 0.0, 'neu': 1.0, 'pos': 0.0, 'compound': 0.0}      0.0000   \n",
       "3      {'neg': 0.0, 'neu': 0.0, 'pos': 1.0, 'compound': 0.5859}      0.5859   \n",
       "4      {'neg': 0.0, 'neu': 0.0, 'pos': 1.0, 'compound': 0.4588}      0.4588   \n",
       "\n",
       "  sentiment  \n",
       "0  positive  \n",
       "1   neutral  \n",
       "2   neutral  \n",
       "3  positive  \n",
       "4  positive  "
      ]
     },
     "execution_count": 28,
     "metadata": {},
     "output_type": "execute_result"
    }
   ],
   "source": [
    "data.head()"
   ]
  },
  {
   "cell_type": "code",
   "execution_count": 29,
   "metadata": {},
   "outputs": [
    {
     "data": {
      "text/plain": [
       "<AxesSubplot:title={'center':'sentiment analysis'}>"
      ]
     },
     "execution_count": 29,
     "metadata": {},
     "output_type": "execute_result"
    },
    {
     "data": {
      "image/png": "[encoded data removed]",
      "text/plain": [
       "<Figure size 432x288 with 1 Axes>"
      ]
     },
     "metadata": {
      "needs_background": "light"
     },
     "output_type": "display_data"
    }
   ],
   "source": [
    "data.sentiment.value_counts().plot(kind='bar',title=\"sentiment analysis\")"
   ]
  },
  {
   "cell_type": "code",
   "execution_count": 30,
   "metadata": {},
   "outputs": [],
   "source": [
    "data.to_csv ('..'+ folderName + documentName + 'Sentiment Analysis' + '.csv', index = False, header=True)"
   ]
  },
  {
   "cell_type": "code",
   "execution_count": 31,
   "metadata": {},
   "outputs": [
    {
     "data": {
      "text/plain": [
       "<AxesSubplot:ylabel='Frequency'>"
      ]
     },
     "execution_count": 31,
     "metadata": {},
     "output_type": "execute_result"
    },
    {
     "data": {
      "image/png": "[encoded data removed]",
      "text/plain": [
       "<Figure size 432x288 with 1 Axes>"
      ]
     },
     "metadata": {
      "needs_background": "light"
     },
     "output_type": "display_data"
    }
   ],
   "source": [
    "%matplotlib inline\n",
    "\n",
    "\n",
    "data['comp_score'].plot(kind='hist')"
   ]
  },
  {
   "cell_type": "code",
   "execution_count": 32,
   "metadata": {},
   "outputs": [],
   "source": [
    "X=data['Cleanest_message']\n",
    "y=data['sentiment']\n",
    "from sklearn.model_selection import train_test_split\n",
    "\n",
    "X_train, X_test, y_train, y_test = train_test_split(X, y, test_size=0.33, random_state=42)"
   ]
  },
  {
   "cell_type": "code",
   "execution_count": 33,
   "metadata": {},
   "outputs": [
    {
     "data": {
      "text/plain": [
       "10675    positive\n",
       "10676    negative\n",
       "10677    negative\n",
       "10678    negative\n",
       "10679    positive\n",
       "Name: sentiment, dtype: object"
      ]
     },
     "execution_count": 33,
     "metadata": {},
     "output_type": "execute_result"
    }
   ],
   "source": [
    "y.tail()"
   ]
  },
  {
   "cell_type": "code",
   "execution_count": 34,
   "metadata": {},
   "outputs": [
    {
     "data": {
      "text/plain": [
       "0    slap LUL i\n",
       "1            go\n",
       "2           wif\n",
       "3           win\n",
       "4          Clap\n",
       "Name: Cleanest_message, dtype: object"
      ]
     },
     "execution_count": 34,
     "metadata": {},
     "output_type": "execute_result"
    }
   ],
   "source": [
    "X.head()"
   ]
  },
  {
   "cell_type": "code",
   "execution_count": 35,
   "metadata": {},
   "outputs": [
    {
     "data": {
      "text/plain": [
       "(7155,)"
      ]
     },
     "execution_count": 35,
     "metadata": {},
     "output_type": "execute_result"
    }
   ],
   "source": [
    "X_train.shape"
   ]
  },
  {
   "cell_type": "code",
   "execution_count": 36,
   "metadata": {},
   "outputs": [
    {
     "data": {
      "text/plain": [
       "(3525,)"
      ]
     },
     "execution_count": 36,
     "metadata": {},
     "output_type": "execute_result"
    }
   ],
   "source": [
    "y_test.shape"
   ]
  },
  {
   "cell_type": "markdown",
   "metadata": {},
   "source": [
    "https://scikit-learn.org/stable/modules/generated/sklearn.feature_extraction.text.TfidfVectorizer.html"
   ]
  },
  {
   "cell_type": "code",
   "execution_count": 37,
   "metadata": {},
   "outputs": [
    {
     "data": {
      "text/plain": [
       "(7155, 317)"
      ]
     },
     "execution_count": 37,
     "metadata": {},
     "output_type": "execute_result"
    }
   ],
   "source": [
    "from sklearn.feature_extraction.text import TfidfVectorizer\n",
    "vectorizer = TfidfVectorizer()\n",
    "\n",
    "X_train_tfidf = vectorizer.fit_transform(X_train) \n",
    "X_train_tfidf.shape"
   ]
  },
  {
   "cell_type": "code",
   "execution_count": 38,
   "metadata": {},
   "outputs": [],
   "source": [
    "#print(X_train_tfidf)"
   ]
  },
  {
   "cell_type": "code",
   "execution_count": 39,
   "metadata": {},
   "outputs": [
    {
     "data": {
      "text/plain": [
       "LinearSVC()"
      ]
     },
     "execution_count": 39,
     "metadata": {},
     "output_type": "execute_result"
    }
   ],
   "source": [
    "from sklearn.svm import LinearSVC\n",
    "clf = LinearSVC()\n",
    "clf.fit(X_train_tfidf,y_train)"
   ]
  },
  {
   "cell_type": "code",
   "execution_count": 40,
   "metadata": {},
   "outputs": [
    {
     "data": {
      "text/plain": [
       "Pipeline(steps=[('tfidf', TfidfVectorizer()), ('clf', LinearSVC())])"
      ]
     },
     "execution_count": 40,
     "metadata": {},
     "output_type": "execute_result"
    }
   ],
   "source": [
    "from sklearn.pipeline import Pipeline\n",
    "\n",
    "\n",
    "text_clf = Pipeline([('tfidf', TfidfVectorizer()),\n",
    "                     ('clf', LinearSVC()),\n",
    "])\n",
    "\n",
    "# Feed the training data through the pipeline\n",
    "text_clf.fit(X_train, y_train) "
   ]
  },
  {
   "cell_type": "code",
   "execution_count": 41,
   "metadata": {},
   "outputs": [],
   "source": [
    "#Only training set has been vectorized into a full vocabulary.\n",
    "#In order to perform an analysis on test set scikit-learn offers a Pipeline that behaves like a compound classifier"
   ]
  },
  {
   "cell_type": "code",
   "execution_count": 42,
   "metadata": {},
   "outputs": [],
   "source": [
    "predictions = text_clf.predict(X_test)"
   ]
  },
  {
   "cell_type": "code",
   "execution_count": 43,
   "metadata": {},
   "outputs": [
    {
     "name": "stdout",
     "output_type": "stream",
     "text": [
      "[[ 832   24   14]\n",
      " [   4 1143    9]\n",
      " [   5   32 1462]]\n"
     ]
    }
   ],
   "source": [
    "from sklearn import metrics\n",
    "print(metrics.confusion_matrix(y_test,predictions))"
   ]
  },
  {
   "cell_type": "code",
   "execution_count": 44,
   "metadata": {},
   "outputs": [
    {
     "name": "stdout",
     "output_type": "stream",
     "text": [
      "0.9750354609929078\n"
     ]
    }
   ],
   "source": [
    "print(metrics.accuracy_score(y_test,predictions))"
   ]
  },
  {
   "cell_type": "code",
   "execution_count": 45,
   "metadata": {},
   "outputs": [],
   "source": [
    "myreview = \"Booba Booba\""
   ]
  },
  {
   "cell_type": "code",
   "execution_count": 46,
   "metadata": {},
   "outputs": [
    {
     "name": "stdout",
     "output_type": "stream",
     "text": [
      "['positive']\n"
     ]
    }
   ],
   "source": [
    "print(text_clf.predict([myreview]))"
   ]
  },
  {
   "cell_type": "markdown",
   "metadata": {},
   "source": [
    "https://www.koreascience.or.kr/article/JAKO202024758671657.pdf #why choose TFIDF vs WORD2VEC"
   ]
  },
  {
   "cell_type": "code",
   "execution_count": null,
   "metadata": {},
   "outputs": [],
   "source": []
  }
 ],
 "metadata": {
  "kernelspec": {
   "display_name": "Python 3",
   "language": "python",
   "name": "python3"
  },
  "language_info": {
   "codemirror_mode": {
    "name": "ipython",
    "version": 3
   },
   "file_extension": ".py",
   "mimetype": "text/x-python",
   "name": "python",
   "nbconvert_exporter": "python",
   "pygments_lexer": "ipython3",
   "version": "3.7.10"
  }
 },
 "nbformat": 4,
 "nbformat_minor": 4
}
