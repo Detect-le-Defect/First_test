{
 "cells": [
  {
   "cell_type": "code",
   "execution_count": 41,
   "metadata": {},
   "outputs": [],
   "source": [
    "import pandas as pd\n",
    "import numpy as np\n",
    "\n",
    "import nltk\n",
    "from vaderSentiment.vaderSentiment import SentimentIntensityAnalyzer\n"
   ]
  },
  {
   "cell_type": "code",
   "execution_count": 42,
   "metadata": {},
   "outputs": [
    {
     "data": {
      "text/html": [
       "<div>\n",
       "<style scoped>\n",
       "    .dataframe tbody tr th:only-of-type {\n",
       "        vertical-align: middle;\n",
       "    }\n",
       "\n",
       "    .dataframe tbody tr th {\n",
       "        vertical-align: top;\n",
       "    }\n",
       "\n",
       "    .dataframe thead th {\n",
       "        text-align: right;\n",
       "    }\n",
       "</style>\n",
       "<table border=\"1\" class=\"dataframe\">\n",
       "  <thead>\n",
       "    <tr style=\"text-align: right;\">\n",
       "      <th></th>\n",
       "      <th>Date</th>\n",
       "      <th>Channel</th>\n",
       "      <th>Username</th>\n",
       "      <th>Message</th>\n",
       "      <th>Tag_owner</th>\n",
       "      <th>Cleanest_message</th>\n",
       "    </tr>\n",
       "  </thead>\n",
       "  <tbody>\n",
       "    <tr>\n",
       "      <th>0</th>\n",
       "      <td>2021-09-14 17:51:09</td>\n",
       "      <td>greekgodx</td>\n",
       "      <td>mustfax19</td>\n",
       "      <td>Pepega</td>\n",
       "      <td>0</td>\n",
       "      <td>Pepega</td>\n",
       "    </tr>\n",
       "    <tr>\n",
       "      <th>1</th>\n",
       "      <td>2021-09-14 17:51:09</td>\n",
       "      <td>greekgodx</td>\n",
       "      <td>exiledxinsanity</td>\n",
       "      <td>v tec kicked in Pog</td>\n",
       "      <td>0</td>\n",
       "      <td>pog</td>\n",
       "    </tr>\n",
       "    <tr>\n",
       "      <th>2</th>\n",
       "      <td>2021-09-14 17:51:10</td>\n",
       "      <td>greekgodx</td>\n",
       "      <td>leeqox</td>\n",
       "      <td>Alarm turn up the volume Alarm</td>\n",
       "      <td>0</td>\n",
       "      <td>alarm</td>\n",
       "    </tr>\n",
       "    <tr>\n",
       "      <th>3</th>\n",
       "      <td>2021-09-14 17:51:10</td>\n",
       "      <td>greekgodx</td>\n",
       "      <td>adamev1</td>\n",
       "      <td>Pepega Clap</td>\n",
       "      <td>0</td>\n",
       "      <td>Pepega Clap</td>\n",
       "    </tr>\n",
       "    <tr>\n",
       "      <th>4</th>\n",
       "      <td>2021-09-14 17:51:12</td>\n",
       "      <td>greekgodx</td>\n",
       "      <td>spr1nt3r</td>\n",
       "      <td>THE INSANE SAILOR monkaS</td>\n",
       "      <td>0</td>\n",
       "      <td>monkaS</td>\n",
       "    </tr>\n",
       "  </tbody>\n",
       "</table>\n",
       "</div>"
      ],
      "text/plain": [
       "                  Date     Channel         Username  \\\n",
       "0  2021-09-14 17:51:09  greekgodx         mustfax19   \n",
       "1  2021-09-14 17:51:09  greekgodx   exiledxinsanity   \n",
       "2  2021-09-14 17:51:10  greekgodx            leeqox   \n",
       "3  2021-09-14 17:51:10  greekgodx           adamev1   \n",
       "4  2021-09-14 17:51:12  greekgodx          spr1nt3r   \n",
       "\n",
       "                          Message  Tag_owner Cleanest_message  \n",
       "0                          Pepega          0           Pepega  \n",
       "1             v tec kicked in Pog          0              pog  \n",
       "2  Alarm turn up the volume Alarm          0            alarm  \n",
       "3                     Pepega Clap          0      Pepega Clap  \n",
       "4        THE INSANE SAILOR monkaS          0           monkaS  "
      ]
     },
     "execution_count": 42,
     "metadata": {},
     "output_type": "execute_result"
    }
   ],
   "source": [
    "data = pd.read_csv('../ChatLogs/chatgreekgodx091421Clean.csv')\n",
    "data.head()"
   ]
  },
  {
   "cell_type": "code",
   "execution_count": 43,
   "metadata": {},
   "outputs": [],
   "source": [
    "analyser = SentimentIntensityAnalyzer()\n",
    "\n"
   ]
  },
  {
   "cell_type": "code",
   "execution_count": 44,
   "metadata": {},
   "outputs": [],
   "source": [
    "\n",
    "\n",
    "new_emotes = {\n",
    "    'omegalul': 2,\n",
    "    'lilw': 0,\n",
    "    'monkaw': -3.0,\n",
    "    'waytoodank': 0,\n",
    "    'ez': 2.0,\n",
    "    'clap' : 3.0,\n",
    "    'lul' : 2.0,\n",
    "    'booba' : 1.0,\n",
    "    'pepega' : -3.0,\n",
    "    'feelsgoodman' : 3.0,\n",
    "    'wutfac' : -3.0,\n",
    "    'sadge' : -4.0,\n",
    "    'kreygasm' : 3.0,\n",
    "    'kappa' : 0,\n",
    "    'peeposad' : -4.0,\n",
    "    'pogu' : 4.0,\n",
    "    'truening' : 0,\n",
    "    'lulw' : 2.0,\n",
    "    'feelsbadman' : -3.0,\n",
    "    'pogchamp' : 3.0,\n",
    "    'poggers' : 3.0,\n",
    "    'heyguys' : 2.0,\n",
    "    'pepehands': -2.0,\n",
    "    'rip' : -2.0,\n",
    "    'seemsgood' : 3.0,\n",
    "    'notlikethis' : -2.0,\n",
    "    'clap' : 2.0,\n",
    "    'pog' : 2.0,\n",
    "    'smorc' : 0,\n",
    "    'dansgam' : -4.0,\n",
    "    'ez' : -1.0,\n",
    "    'peeposad' : -2.0,    \n",
    "}"
   ]
  },
  {
   "cell_type": "code",
   "execution_count": 45,
   "metadata": {},
   "outputs": [],
   "source": [
    "analyser.lexicon.update(new_emotes)"
   ]
  },
  {
   "cell_type": "code",
   "execution_count": 46,
   "metadata": {},
   "outputs": [],
   "source": [
    "data['scores'] = data['Cleanest_message'].apply(lambda clean_message:analyser.polarity_scores(clean_message))"
   ]
  },
  {
   "cell_type": "code",
   "execution_count": 47,
   "metadata": {},
   "outputs": [
    {
     "data": {
      "text/html": [
       "<div>\n",
       "<style scoped>\n",
       "    .dataframe tbody tr th:only-of-type {\n",
       "        vertical-align: middle;\n",
       "    }\n",
       "\n",
       "    .dataframe tbody tr th {\n",
       "        vertical-align: top;\n",
       "    }\n",
       "\n",
       "    .dataframe thead th {\n",
       "        text-align: right;\n",
       "    }\n",
       "</style>\n",
       "<table border=\"1\" class=\"dataframe\">\n",
       "  <thead>\n",
       "    <tr style=\"text-align: right;\">\n",
       "      <th></th>\n",
       "      <th>Date</th>\n",
       "      <th>Channel</th>\n",
       "      <th>Username</th>\n",
       "      <th>Message</th>\n",
       "      <th>Tag_owner</th>\n",
       "      <th>Cleanest_message</th>\n",
       "      <th>scores</th>\n",
       "    </tr>\n",
       "  </thead>\n",
       "  <tbody>\n",
       "    <tr>\n",
       "      <th>0</th>\n",
       "      <td>2021-09-14 17:51:09</td>\n",
       "      <td>greekgodx</td>\n",
       "      <td>mustfax19</td>\n",
       "      <td>Pepega</td>\n",
       "      <td>0</td>\n",
       "      <td>Pepega</td>\n",
       "      <td>{'neg': 1.0, 'neu': 0.0, 'pos': 0.0, 'compound': -0.6124}</td>\n",
       "    </tr>\n",
       "    <tr>\n",
       "      <th>1</th>\n",
       "      <td>2021-09-14 17:51:09</td>\n",
       "      <td>greekgodx</td>\n",
       "      <td>exiledxinsanity</td>\n",
       "      <td>v tec kicked in Pog</td>\n",
       "      <td>0</td>\n",
       "      <td>pog</td>\n",
       "      <td>{'neg': 0.0, 'neu': 0.0, 'pos': 1.0, 'compound': 0.4588}</td>\n",
       "    </tr>\n",
       "    <tr>\n",
       "      <th>2</th>\n",
       "      <td>2021-09-14 17:51:10</td>\n",
       "      <td>greekgodx</td>\n",
       "      <td>leeqox</td>\n",
       "      <td>Alarm turn up the volume Alarm</td>\n",
       "      <td>0</td>\n",
       "      <td>alarm</td>\n",
       "      <td>{'neg': 1.0, 'neu': 0.0, 'pos': 0.0, 'compound': -0.34}</td>\n",
       "    </tr>\n",
       "    <tr>\n",
       "      <th>3</th>\n",
       "      <td>2021-09-14 17:51:10</td>\n",
       "      <td>greekgodx</td>\n",
       "      <td>adamev1</td>\n",
       "      <td>Pepega Clap</td>\n",
       "      <td>0</td>\n",
       "      <td>Pepega Clap</td>\n",
       "      <td>{'neg': 0.571, 'neu': 0.0, 'pos': 0.429, 'compound': -0.25}</td>\n",
       "    </tr>\n",
       "    <tr>\n",
       "      <th>4</th>\n",
       "      <td>2021-09-14 17:51:12</td>\n",
       "      <td>greekgodx</td>\n",
       "      <td>spr1nt3r</td>\n",
       "      <td>THE INSANE SAILOR monkaS</td>\n",
       "      <td>0</td>\n",
       "      <td>monkaS</td>\n",
       "      <td>{'neg': 0.0, 'neu': 1.0, 'pos': 0.0, 'compound': 0.0}</td>\n",
       "    </tr>\n",
       "  </tbody>\n",
       "</table>\n",
       "</div>"
      ],
      "text/plain": [
       "                  Date     Channel         Username  \\\n",
       "0  2021-09-14 17:51:09  greekgodx         mustfax19   \n",
       "1  2021-09-14 17:51:09  greekgodx   exiledxinsanity   \n",
       "2  2021-09-14 17:51:10  greekgodx            leeqox   \n",
       "3  2021-09-14 17:51:10  greekgodx           adamev1   \n",
       "4  2021-09-14 17:51:12  greekgodx          spr1nt3r   \n",
       "\n",
       "                          Message  Tag_owner Cleanest_message  \\\n",
       "0                          Pepega          0           Pepega   \n",
       "1             v tec kicked in Pog          0              pog   \n",
       "2  Alarm turn up the volume Alarm          0            alarm   \n",
       "3                     Pepega Clap          0      Pepega Clap   \n",
       "4        THE INSANE SAILOR monkaS          0           monkaS   \n",
       "\n",
       "                                                        scores  \n",
       "0    {'neg': 1.0, 'neu': 0.0, 'pos': 0.0, 'compound': -0.6124}  \n",
       "1     {'neg': 0.0, 'neu': 0.0, 'pos': 1.0, 'compound': 0.4588}  \n",
       "2      {'neg': 1.0, 'neu': 0.0, 'pos': 0.0, 'compound': -0.34}  \n",
       "3  {'neg': 0.571, 'neu': 0.0, 'pos': 0.429, 'compound': -0.25}  \n",
       "4        {'neg': 0.0, 'neu': 1.0, 'pos': 0.0, 'compound': 0.0}  "
      ]
     },
     "execution_count": 47,
     "metadata": {},
     "output_type": "execute_result"
    }
   ],
   "source": [
    "data.head(5)"
   ]
  },
  {
   "cell_type": "code",
   "execution_count": 48,
   "metadata": {},
   "outputs": [],
   "source": [
    "total=analyser.polarity_scores(data['Cleanest_message'])"
   ]
  },
  {
   "cell_type": "code",
   "execution_count": 49,
   "metadata": {},
   "outputs": [
    {
     "data": {
      "text/plain": [
       "{'neg': 0.115, 'neu': 0.804, 'pos': 0.082, 'compound': -0.9922}"
      ]
     },
     "execution_count": 49,
     "metadata": {},
     "output_type": "execute_result"
    }
   ],
   "source": [
    "total"
   ]
  },
  {
   "cell_type": "code",
   "execution_count": 50,
   "metadata": {},
   "outputs": [],
   "source": [
    "pd.set_option('display.max_colwidth', 200)"
   ]
  },
  {
   "cell_type": "code",
   "execution_count": 51,
   "metadata": {},
   "outputs": [
    {
     "data": {
      "text/html": [
       "<div>\n",
       "<style scoped>\n",
       "    .dataframe tbody tr th:only-of-type {\n",
       "        vertical-align: middle;\n",
       "    }\n",
       "\n",
       "    .dataframe tbody tr th {\n",
       "        vertical-align: top;\n",
       "    }\n",
       "\n",
       "    .dataframe thead th {\n",
       "        text-align: right;\n",
       "    }\n",
       "</style>\n",
       "<table border=\"1\" class=\"dataframe\">\n",
       "  <thead>\n",
       "    <tr style=\"text-align: right;\">\n",
       "      <th></th>\n",
       "      <th>Date</th>\n",
       "      <th>Channel</th>\n",
       "      <th>Username</th>\n",
       "      <th>Message</th>\n",
       "      <th>Tag_owner</th>\n",
       "      <th>Cleanest_message</th>\n",
       "      <th>scores</th>\n",
       "    </tr>\n",
       "  </thead>\n",
       "  <tbody>\n",
       "    <tr>\n",
       "      <th>0</th>\n",
       "      <td>2021-09-14 17:51:09</td>\n",
       "      <td>greekgodx</td>\n",
       "      <td>mustfax19</td>\n",
       "      <td>Pepega</td>\n",
       "      <td>0</td>\n",
       "      <td>Pepega</td>\n",
       "      <td>{'neg': 1.0, 'neu': 0.0, 'pos': 0.0, 'compound': -0.6124}</td>\n",
       "    </tr>\n",
       "    <tr>\n",
       "      <th>1</th>\n",
       "      <td>2021-09-14 17:51:09</td>\n",
       "      <td>greekgodx</td>\n",
       "      <td>exiledxinsanity</td>\n",
       "      <td>v tec kicked in Pog</td>\n",
       "      <td>0</td>\n",
       "      <td>pog</td>\n",
       "      <td>{'neg': 0.0, 'neu': 0.0, 'pos': 1.0, 'compound': 0.4588}</td>\n",
       "    </tr>\n",
       "    <tr>\n",
       "      <th>2</th>\n",
       "      <td>2021-09-14 17:51:10</td>\n",
       "      <td>greekgodx</td>\n",
       "      <td>leeqox</td>\n",
       "      <td>Alarm turn up the volume Alarm</td>\n",
       "      <td>0</td>\n",
       "      <td>alarm</td>\n",
       "      <td>{'neg': 1.0, 'neu': 0.0, 'pos': 0.0, 'compound': -0.34}</td>\n",
       "    </tr>\n",
       "    <tr>\n",
       "      <th>3</th>\n",
       "      <td>2021-09-14 17:51:10</td>\n",
       "      <td>greekgodx</td>\n",
       "      <td>adamev1</td>\n",
       "      <td>Pepega Clap</td>\n",
       "      <td>0</td>\n",
       "      <td>Pepega Clap</td>\n",
       "      <td>{'neg': 0.571, 'neu': 0.0, 'pos': 0.429, 'compound': -0.25}</td>\n",
       "    </tr>\n",
       "    <tr>\n",
       "      <th>4</th>\n",
       "      <td>2021-09-14 17:51:12</td>\n",
       "      <td>greekgodx</td>\n",
       "      <td>spr1nt3r</td>\n",
       "      <td>THE INSANE SAILOR monkaS</td>\n",
       "      <td>0</td>\n",
       "      <td>monkaS</td>\n",
       "      <td>{'neg': 0.0, 'neu': 1.0, 'pos': 0.0, 'compound': 0.0}</td>\n",
       "    </tr>\n",
       "  </tbody>\n",
       "</table>\n",
       "</div>"
      ],
      "text/plain": [
       "                  Date     Channel         Username  \\\n",
       "0  2021-09-14 17:51:09  greekgodx         mustfax19   \n",
       "1  2021-09-14 17:51:09  greekgodx   exiledxinsanity   \n",
       "2  2021-09-14 17:51:10  greekgodx            leeqox   \n",
       "3  2021-09-14 17:51:10  greekgodx           adamev1   \n",
       "4  2021-09-14 17:51:12  greekgodx          spr1nt3r   \n",
       "\n",
       "                          Message  Tag_owner Cleanest_message  \\\n",
       "0                          Pepega          0           Pepega   \n",
       "1             v tec kicked in Pog          0              pog   \n",
       "2  Alarm turn up the volume Alarm          0            alarm   \n",
       "3                     Pepega Clap          0      Pepega Clap   \n",
       "4        THE INSANE SAILOR monkaS          0           monkaS   \n",
       "\n",
       "                                                        scores  \n",
       "0    {'neg': 1.0, 'neu': 0.0, 'pos': 0.0, 'compound': -0.6124}  \n",
       "1     {'neg': 0.0, 'neu': 0.0, 'pos': 1.0, 'compound': 0.4588}  \n",
       "2      {'neg': 1.0, 'neu': 0.0, 'pos': 0.0, 'compound': -0.34}  \n",
       "3  {'neg': 0.571, 'neu': 0.0, 'pos': 0.429, 'compound': -0.25}  \n",
       "4        {'neg': 0.0, 'neu': 1.0, 'pos': 0.0, 'compound': 0.0}  "
      ]
     },
     "execution_count": 51,
     "metadata": {},
     "output_type": "execute_result"
    }
   ],
   "source": [
    "data.head()"
   ]
  },
  {
   "cell_type": "code",
   "execution_count": 52,
   "metadata": {},
   "outputs": [],
   "source": [
    "\n",
    "\n",
    "data['comp_score'] = data['scores'].apply(lambda score_dict: score_dict['compound'])"
   ]
  },
  {
   "cell_type": "code",
   "execution_count": 53,
   "metadata": {},
   "outputs": [
    {
     "data": {
      "text/html": [
       "<div>\n",
       "<style scoped>\n",
       "    .dataframe tbody tr th:only-of-type {\n",
       "        vertical-align: middle;\n",
       "    }\n",
       "\n",
       "    .dataframe tbody tr th {\n",
       "        vertical-align: top;\n",
       "    }\n",
       "\n",
       "    .dataframe thead th {\n",
       "        text-align: right;\n",
       "    }\n",
       "</style>\n",
       "<table border=\"1\" class=\"dataframe\">\n",
       "  <thead>\n",
       "    <tr style=\"text-align: right;\">\n",
       "      <th></th>\n",
       "      <th>Date</th>\n",
       "      <th>Channel</th>\n",
       "      <th>Username</th>\n",
       "      <th>Message</th>\n",
       "      <th>Tag_owner</th>\n",
       "      <th>Cleanest_message</th>\n",
       "      <th>scores</th>\n",
       "      <th>comp_score</th>\n",
       "    </tr>\n",
       "  </thead>\n",
       "  <tbody>\n",
       "    <tr>\n",
       "      <th>0</th>\n",
       "      <td>2021-09-14 17:51:09</td>\n",
       "      <td>greekgodx</td>\n",
       "      <td>mustfax19</td>\n",
       "      <td>Pepega</td>\n",
       "      <td>0</td>\n",
       "      <td>Pepega</td>\n",
       "      <td>{'neg': 1.0, 'neu': 0.0, 'pos': 0.0, 'compound': -0.6124}</td>\n",
       "      <td>-0.6124</td>\n",
       "    </tr>\n",
       "    <tr>\n",
       "      <th>1</th>\n",
       "      <td>2021-09-14 17:51:09</td>\n",
       "      <td>greekgodx</td>\n",
       "      <td>exiledxinsanity</td>\n",
       "      <td>v tec kicked in Pog</td>\n",
       "      <td>0</td>\n",
       "      <td>pog</td>\n",
       "      <td>{'neg': 0.0, 'neu': 0.0, 'pos': 1.0, 'compound': 0.4588}</td>\n",
       "      <td>0.4588</td>\n",
       "    </tr>\n",
       "    <tr>\n",
       "      <th>2</th>\n",
       "      <td>2021-09-14 17:51:10</td>\n",
       "      <td>greekgodx</td>\n",
       "      <td>leeqox</td>\n",
       "      <td>Alarm turn up the volume Alarm</td>\n",
       "      <td>0</td>\n",
       "      <td>alarm</td>\n",
       "      <td>{'neg': 1.0, 'neu': 0.0, 'pos': 0.0, 'compound': -0.34}</td>\n",
       "      <td>-0.3400</td>\n",
       "    </tr>\n",
       "    <tr>\n",
       "      <th>3</th>\n",
       "      <td>2021-09-14 17:51:10</td>\n",
       "      <td>greekgodx</td>\n",
       "      <td>adamev1</td>\n",
       "      <td>Pepega Clap</td>\n",
       "      <td>0</td>\n",
       "      <td>Pepega Clap</td>\n",
       "      <td>{'neg': 0.571, 'neu': 0.0, 'pos': 0.429, 'compound': -0.25}</td>\n",
       "      <td>-0.2500</td>\n",
       "    </tr>\n",
       "    <tr>\n",
       "      <th>4</th>\n",
       "      <td>2021-09-14 17:51:12</td>\n",
       "      <td>greekgodx</td>\n",
       "      <td>spr1nt3r</td>\n",
       "      <td>THE INSANE SAILOR monkaS</td>\n",
       "      <td>0</td>\n",
       "      <td>monkaS</td>\n",
       "      <td>{'neg': 0.0, 'neu': 1.0, 'pos': 0.0, 'compound': 0.0}</td>\n",
       "      <td>0.0000</td>\n",
       "    </tr>\n",
       "  </tbody>\n",
       "</table>\n",
       "</div>"
      ],
      "text/plain": [
       "                  Date     Channel         Username  \\\n",
       "0  2021-09-14 17:51:09  greekgodx         mustfax19   \n",
       "1  2021-09-14 17:51:09  greekgodx   exiledxinsanity   \n",
       "2  2021-09-14 17:51:10  greekgodx            leeqox   \n",
       "3  2021-09-14 17:51:10  greekgodx           adamev1   \n",
       "4  2021-09-14 17:51:12  greekgodx          spr1nt3r   \n",
       "\n",
       "                          Message  Tag_owner Cleanest_message  \\\n",
       "0                          Pepega          0           Pepega   \n",
       "1             v tec kicked in Pog          0              pog   \n",
       "2  Alarm turn up the volume Alarm          0            alarm   \n",
       "3                     Pepega Clap          0      Pepega Clap   \n",
       "4        THE INSANE SAILOR monkaS          0           monkaS   \n",
       "\n",
       "                                                        scores  comp_score  \n",
       "0    {'neg': 1.0, 'neu': 0.0, 'pos': 0.0, 'compound': -0.6124}     -0.6124  \n",
       "1     {'neg': 0.0, 'neu': 0.0, 'pos': 1.0, 'compound': 0.4588}      0.4588  \n",
       "2      {'neg': 1.0, 'neu': 0.0, 'pos': 0.0, 'compound': -0.34}     -0.3400  \n",
       "3  {'neg': 0.571, 'neu': 0.0, 'pos': 0.429, 'compound': -0.25}     -0.2500  \n",
       "4        {'neg': 0.0, 'neu': 1.0, 'pos': 0.0, 'compound': 0.0}      0.0000  "
      ]
     },
     "execution_count": 53,
     "metadata": {},
     "output_type": "execute_result"
    }
   ],
   "source": [
    "data.head()"
   ]
  },
  {
   "cell_type": "code",
   "execution_count": 54,
   "metadata": {},
   "outputs": [],
   "source": [
    "#data['sentiment']=''\n",
    "#data.loc[data.comp_score>0,'sentiment']='POSITIVE'\n",
    "#data.loc[data.comp_score==0,'sentiment']='NEUTRAL'\n",
    "#data.loc[data.comp_score<0,'sentiment']='NEGATIVE'"
   ]
  },
  {
   "cell_type": "code",
   "execution_count": 55,
   "metadata": {},
   "outputs": [],
   "source": [
    "def categorise_sentiment(sentiment, neg_threshold=-0.05, pos_threshold=0.05):\n",
    "    \"\"\" categorise the sentiment value as positive (1), negative (-1) \n",
    "        or neutral (0) based on given thresholds \"\"\"\n",
    "    if sentiment < neg_threshold:\n",
    "        label = 'negative'\n",
    "    elif sentiment > pos_threshold:\n",
    "        label = 'positive'\n",
    "    else:\n",
    "        label = 'neutral'\n",
    "    return label"
   ]
  },
  {
   "cell_type": "code",
   "execution_count": 56,
   "metadata": {},
   "outputs": [],
   "source": [
    "data['sentiment'] = data['comp_score'].apply(categorise_sentiment)"
   ]
  },
  {
   "cell_type": "code",
   "execution_count": 57,
   "metadata": {},
   "outputs": [
    {
     "data": {
      "text/html": [
       "<div>\n",
       "<style scoped>\n",
       "    .dataframe tbody tr th:only-of-type {\n",
       "        vertical-align: middle;\n",
       "    }\n",
       "\n",
       "    .dataframe tbody tr th {\n",
       "        vertical-align: top;\n",
       "    }\n",
       "\n",
       "    .dataframe thead th {\n",
       "        text-align: right;\n",
       "    }\n",
       "</style>\n",
       "<table border=\"1\" class=\"dataframe\">\n",
       "  <thead>\n",
       "    <tr style=\"text-align: right;\">\n",
       "      <th></th>\n",
       "      <th>Date</th>\n",
       "      <th>Channel</th>\n",
       "      <th>Username</th>\n",
       "      <th>Message</th>\n",
       "      <th>Tag_owner</th>\n",
       "      <th>Cleanest_message</th>\n",
       "      <th>scores</th>\n",
       "      <th>comp_score</th>\n",
       "      <th>sentiment</th>\n",
       "    </tr>\n",
       "  </thead>\n",
       "  <tbody>\n",
       "    <tr>\n",
       "      <th>0</th>\n",
       "      <td>2021-09-14 17:51:09</td>\n",
       "      <td>greekgodx</td>\n",
       "      <td>mustfax19</td>\n",
       "      <td>Pepega</td>\n",
       "      <td>0</td>\n",
       "      <td>Pepega</td>\n",
       "      <td>{'neg': 1.0, 'neu': 0.0, 'pos': 0.0, 'compound': -0.6124}</td>\n",
       "      <td>-0.6124</td>\n",
       "      <td>negative</td>\n",
       "    </tr>\n",
       "    <tr>\n",
       "      <th>1</th>\n",
       "      <td>2021-09-14 17:51:09</td>\n",
       "      <td>greekgodx</td>\n",
       "      <td>exiledxinsanity</td>\n",
       "      <td>v tec kicked in Pog</td>\n",
       "      <td>0</td>\n",
       "      <td>pog</td>\n",
       "      <td>{'neg': 0.0, 'neu': 0.0, 'pos': 1.0, 'compound': 0.4588}</td>\n",
       "      <td>0.4588</td>\n",
       "      <td>positive</td>\n",
       "    </tr>\n",
       "    <tr>\n",
       "      <th>2</th>\n",
       "      <td>2021-09-14 17:51:10</td>\n",
       "      <td>greekgodx</td>\n",
       "      <td>leeqox</td>\n",
       "      <td>Alarm turn up the volume Alarm</td>\n",
       "      <td>0</td>\n",
       "      <td>alarm</td>\n",
       "      <td>{'neg': 1.0, 'neu': 0.0, 'pos': 0.0, 'compound': -0.34}</td>\n",
       "      <td>-0.3400</td>\n",
       "      <td>negative</td>\n",
       "    </tr>\n",
       "    <tr>\n",
       "      <th>3</th>\n",
       "      <td>2021-09-14 17:51:10</td>\n",
       "      <td>greekgodx</td>\n",
       "      <td>adamev1</td>\n",
       "      <td>Pepega Clap</td>\n",
       "      <td>0</td>\n",
       "      <td>Pepega Clap</td>\n",
       "      <td>{'neg': 0.571, 'neu': 0.0, 'pos': 0.429, 'compound': -0.25}</td>\n",
       "      <td>-0.2500</td>\n",
       "      <td>negative</td>\n",
       "    </tr>\n",
       "    <tr>\n",
       "      <th>4</th>\n",
       "      <td>2021-09-14 17:51:12</td>\n",
       "      <td>greekgodx</td>\n",
       "      <td>spr1nt3r</td>\n",
       "      <td>THE INSANE SAILOR monkaS</td>\n",
       "      <td>0</td>\n",
       "      <td>monkaS</td>\n",
       "      <td>{'neg': 0.0, 'neu': 1.0, 'pos': 0.0, 'compound': 0.0}</td>\n",
       "      <td>0.0000</td>\n",
       "      <td>neutral</td>\n",
       "    </tr>\n",
       "  </tbody>\n",
       "</table>\n",
       "</div>"
      ],
      "text/plain": [
       "                  Date     Channel         Username  \\\n",
       "0  2021-09-14 17:51:09  greekgodx         mustfax19   \n",
       "1  2021-09-14 17:51:09  greekgodx   exiledxinsanity   \n",
       "2  2021-09-14 17:51:10  greekgodx            leeqox   \n",
       "3  2021-09-14 17:51:10  greekgodx           adamev1   \n",
       "4  2021-09-14 17:51:12  greekgodx          spr1nt3r   \n",
       "\n",
       "                          Message  Tag_owner Cleanest_message  \\\n",
       "0                          Pepega          0           Pepega   \n",
       "1             v tec kicked in Pog          0              pog   \n",
       "2  Alarm turn up the volume Alarm          0            alarm   \n",
       "3                     Pepega Clap          0      Pepega Clap   \n",
       "4        THE INSANE SAILOR monkaS          0           monkaS   \n",
       "\n",
       "                                                        scores  comp_score  \\\n",
       "0    {'neg': 1.0, 'neu': 0.0, 'pos': 0.0, 'compound': -0.6124}     -0.6124   \n",
       "1     {'neg': 0.0, 'neu': 0.0, 'pos': 1.0, 'compound': 0.4588}      0.4588   \n",
       "2      {'neg': 1.0, 'neu': 0.0, 'pos': 0.0, 'compound': -0.34}     -0.3400   \n",
       "3  {'neg': 0.571, 'neu': 0.0, 'pos': 0.429, 'compound': -0.25}     -0.2500   \n",
       "4        {'neg': 0.0, 'neu': 1.0, 'pos': 0.0, 'compound': 0.0}      0.0000   \n",
       "\n",
       "  sentiment  \n",
       "0  negative  \n",
       "1  positive  \n",
       "2  negative  \n",
       "3  negative  \n",
       "4   neutral  "
      ]
     },
     "execution_count": 57,
     "metadata": {},
     "output_type": "execute_result"
    }
   ],
   "source": [
    "data.head()"
   ]
  },
  {
   "cell_type": "code",
   "execution_count": 58,
   "metadata": {},
   "outputs": [
    {
     "data": {
      "text/plain": [
       "<AxesSubplot:title={'center':'sentiment analysis'}>"
      ]
     },
     "execution_count": 58,
     "metadata": {},
     "output_type": "execute_result"
    },
    {
     "data": {
      "image/png": "[encoded data removed]",
      "text/plain": [
       "<Figure size 432x288 with 1 Axes>"
      ]
     },
     "metadata": {
      "needs_background": "light"
     },
     "output_type": "display_data"
    }
   ],
   "source": [
    "data.sentiment.value_counts().plot(kind='bar',title=\"sentiment analysis\")"
   ]
  },
  {
   "cell_type": "code",
   "execution_count": 24,
   "metadata": {},
   "outputs": [],
   "source": [
    "#data.to_csv ('ChatLogs/new1_data.csv', index = False, header=True)"
   ]
  },
  {
   "cell_type": "code",
   "execution_count": 59,
   "metadata": {},
   "outputs": [
    {
     "data": {
      "text/plain": [
       "<AxesSubplot:ylabel='Frequency'>"
      ]
     },
     "execution_count": 59,
     "metadata": {},
     "output_type": "execute_result"
    },
    {
     "data": {
      "image/png": "[encoded data removed]",
      "text/plain": [
       "<Figure size 432x288 with 1 Axes>"
      ]
     },
     "metadata": {
      "needs_background": "light"
     },
     "output_type": "display_data"
    }
   ],
   "source": [
    "%matplotlib inline\n",
    "\n",
    "\n",
    "data['comp_score'].plot(kind='hist')"
   ]
  },
  {
   "cell_type": "code",
   "execution_count": 60,
   "metadata": {},
   "outputs": [],
   "source": [
    "X=data['Cleanest_message']\n",
    "y=data['sentiment']\n",
    "from sklearn.model_selection import train_test_split\n",
    "\n",
    "X_train, X_test, y_train, y_test = train_test_split(X, y, test_size=0.33, random_state=42)"
   ]
  },
  {
   "cell_type": "code",
   "execution_count": 61,
   "metadata": {},
   "outputs": [
    {
     "data": {
      "text/plain": [
       "6816    positive\n",
       "6817    positive\n",
       "6818    negative\n",
       "6819     neutral\n",
       "6820     neutral\n",
       "Name: sentiment, dtype: object"
      ]
     },
     "execution_count": 61,
     "metadata": {},
     "output_type": "execute_result"
    }
   ],
   "source": [
    "y.tail()"
   ]
  },
  {
   "cell_type": "code",
   "execution_count": 62,
   "metadata": {},
   "outputs": [
    {
     "data": {
      "text/plain": [
       "0         Pepega\n",
       "1            pog\n",
       "2          alarm\n",
       "3    Pepega Clap\n",
       "4         monkaS\n",
       "Name: Cleanest_message, dtype: object"
      ]
     },
     "execution_count": 62,
     "metadata": {},
     "output_type": "execute_result"
    }
   ],
   "source": [
    "X.head()"
   ]
  },
  {
   "cell_type": "code",
   "execution_count": 63,
   "metadata": {},
   "outputs": [
    {
     "data": {
      "text/plain": [
       "(4570,)"
      ]
     },
     "execution_count": 63,
     "metadata": {},
     "output_type": "execute_result"
    }
   ],
   "source": [
    "X_train.shape"
   ]
  },
  {
   "cell_type": "code",
   "execution_count": 64,
   "metadata": {},
   "outputs": [
    {
     "data": {
      "text/plain": [
       "(2251,)"
      ]
     },
     "execution_count": 64,
     "metadata": {},
     "output_type": "execute_result"
    }
   ],
   "source": [
    "y_test.shape"
   ]
  },
  {
   "cell_type": "markdown",
   "metadata": {},
   "source": [
    "https://scikit-learn.org/stable/modules/generated/sklearn.feature_extraction.text.TfidfVectorizer.html"
   ]
  },
  {
   "cell_type": "code",
   "execution_count": 65,
   "metadata": {},
   "outputs": [
    {
     "data": {
      "text/plain": [
       "(4570, 293)"
      ]
     },
     "execution_count": 65,
     "metadata": {},
     "output_type": "execute_result"
    }
   ],
   "source": [
    "from sklearn.feature_extraction.text import TfidfVectorizer\n",
    "vectorizer = TfidfVectorizer()\n",
    "\n",
    "X_train_tfidf = vectorizer.fit_transform(X_train) \n",
    "X_train_tfidf.shape"
   ]
  },
  {
   "cell_type": "code",
   "execution_count": 67,
   "metadata": {},
   "outputs": [],
   "source": [
    "#print(X_train_tfidf)"
   ]
  },
  {
   "cell_type": "code",
   "execution_count": 68,
   "metadata": {},
   "outputs": [
    {
     "data": {
      "text/plain": [
       "LinearSVC()"
      ]
     },
     "execution_count": 68,
     "metadata": {},
     "output_type": "execute_result"
    }
   ],
   "source": [
    "from sklearn.svm import LinearSVC\n",
    "clf = LinearSVC()\n",
    "clf.fit(X_train_tfidf,y_train)"
   ]
  },
  {
   "cell_type": "code",
   "execution_count": 69,
   "metadata": {},
   "outputs": [
    {
     "data": {
      "text/plain": [
       "Pipeline(steps=[('tfidf', TfidfVectorizer()), ('clf', LinearSVC())])"
      ]
     },
     "execution_count": 69,
     "metadata": {},
     "output_type": "execute_result"
    }
   ],
   "source": [
    "from sklearn.pipeline import Pipeline\n",
    "\n",
    "\n",
    "text_clf = Pipeline([('tfidf', TfidfVectorizer()),\n",
    "                     ('clf', LinearSVC()),\n",
    "])\n",
    "\n",
    "# Feed the training data through the pipeline\n",
    "text_clf.fit(X_train, y_train) "
   ]
  },
  {
   "cell_type": "code",
   "execution_count": null,
   "metadata": {},
   "outputs": [],
   "source": [
    "#Only training set has been vectorized into a full vocabulary.\n",
    "#In order to perform an analysis on test set scikit-learn offers a Pipeline that behaves like a compound classifier"
   ]
  },
  {
   "cell_type": "code",
   "execution_count": 70,
   "metadata": {},
   "outputs": [],
   "source": [
    "predictions = text_clf.predict(X_test)"
   ]
  },
  {
   "cell_type": "code",
   "execution_count": 71,
   "metadata": {},
   "outputs": [
    {
     "name": "stdout",
     "output_type": "stream",
     "text": [
      "[[ 643    7   25]\n",
      " [   2  315   22]\n",
      " [   4    9 1224]]\n"
     ]
    }
   ],
   "source": [
    "from sklearn import metrics\n",
    "print(metrics.confusion_matrix(y_test,predictions))"
   ]
  },
  {
   "cell_type": "code",
   "execution_count": 72,
   "metadata": {},
   "outputs": [
    {
     "name": "stdout",
     "output_type": "stream",
     "text": [
      "0.9693469569080408\n"
     ]
    }
   ],
   "source": [
    "print(metrics.accuracy_score(y_test,predictions))"
   ]
  },
  {
   "cell_type": "code",
   "execution_count": 79,
   "metadata": {},
   "outputs": [],
   "source": [
    "myreview = \"Booba Booba\""
   ]
  },
  {
   "cell_type": "code",
   "execution_count": 80,
   "metadata": {},
   "outputs": [
    {
     "name": "stdout",
     "output_type": "stream",
     "text": [
      "['positive']\n"
     ]
    }
   ],
   "source": [
    "print(text_clf.predict([myreview]))"
   ]
  },
  {
   "cell_type": "markdown",
   "metadata": {},
   "source": [
    "https://www.koreascience.or.kr/article/JAKO202024758671657.pdf #why choose TFIDF vs WORD2VEC"
   ]
  },
  {
   "cell_type": "code",
   "execution_count": null,
   "metadata": {},
   "outputs": [],
   "source": []
  }
 ],
 "metadata": {
  "kernelspec": {
   "display_name": "Python 3",
   "language": "python",
   "name": "python3"
  },
  "language_info": {
   "codemirror_mode": {
    "name": "ipython",
    "version": 3
   },
   "file_extension": ".py",
   "mimetype": "text/x-python",
   "name": "python",
   "nbconvert_exporter": "python",
   "pygments_lexer": "ipython3",
   "version": "3.9.2"
  }
 },
 "nbformat": 4,
 "nbformat_minor": 4
}
